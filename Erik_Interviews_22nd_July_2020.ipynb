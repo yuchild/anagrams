{
 "cells": [
  {
   "cell_type": "code",
   "execution_count": 1,
   "metadata": {},
   "outputs": [],
   "source": [
    "'''\n",
    "Reverse list prior @ nth location\n",
    "'''\n",
    "def rev(lst, n):\n",
    "    a = lst[:n]\n",
    "    a.reverse()\n",
    "    b = lst[n:]\n",
    "    return a + b"
   ]
  },
  {
   "cell_type": "code",
   "execution_count": 2,
   "metadata": {},
   "outputs": [],
   "source": [
    "lst = [x+1 for x in range(10)]"
   ]
  },
  {
   "cell_type": "code",
   "execution_count": 3,
   "metadata": {},
   "outputs": [
    {
     "data": {
      "text/plain": [
       "[6, 5, 4, 3, 2, 1, 7, 8, 9, 10]"
      ]
     },
     "execution_count": 3,
     "metadata": {},
     "output_type": "execute_result"
    }
   ],
   "source": [
    "rev(lst, 6)"
   ]
  },
  {
   "cell_type": "code",
   "execution_count": 4,
   "metadata": {},
   "outputs": [
    {
     "data": {
      "text/plain": [
       "[1, 2, 3]"
      ]
     },
     "execution_count": 4,
     "metadata": {},
     "output_type": "execute_result"
    }
   ],
   "source": [
    "lst = [x for x in range(1,8)]\n",
    "n = len(lst)\n",
    "lst[:n//2]"
   ]
  },
  {
   "cell_type": "code",
   "execution_count": 5,
   "metadata": {},
   "outputs": [
    {
     "data": {
      "text/plain": [
       "[5, 6, 7]"
      ]
     },
     "execution_count": 5,
     "metadata": {},
     "output_type": "execute_result"
    }
   ],
   "source": [
    "lst[n//2+1:]"
   ]
  },
  {
   "cell_type": "code",
   "execution_count": null,
   "metadata": {},
   "outputs": [],
   "source": []
  },
  {
   "cell_type": "code",
   "execution_count": 6,
   "metadata": {},
   "outputs": [
    {
     "name": "stdout",
     "output_type": "stream",
     "text": [
      "[1, 2, 3, 4, 5, 6, 7, 8, 9, 10]\n",
      "3\n",
      "5.5\n",
      "8\n"
     ]
    }
   ],
   "source": [
    "nums = [x for x in range(1,11)]\n",
    "\n",
    "def median(lst):\n",
    "    n_ = len(lst)\n",
    "    if n_ % 2 == 0:\n",
    "        med = round((lst[n_//2-1] + lst[n_//2]) / 2, 1)\n",
    "    else:\n",
    "        med = lst[n_//2]\n",
    "    return med\n",
    "\n",
    "def first_half(lst):\n",
    "    n_ = len(lst)\n",
    "    return lst[:n_//2]\n",
    "\n",
    "def second_half(lst):\n",
    "    n_ = len(lst)\n",
    "    if n_ % 2 == 0:\n",
    "        return lst[n_//2:]\n",
    "    else:\n",
    "        return lst[n_//2+1:]\n",
    "\n",
    "print(nums)\n",
    "print(median(first_half(nums)))\n",
    "print(median(nums))\n",
    "print(median(second_half(nums)))\n",
    "\n"
   ]
  },
  {
   "cell_type": "code",
   "execution_count": null,
   "metadata": {},
   "outputs": [],
   "source": []
  }
 ],
 "metadata": {
  "kernelspec": {
   "display_name": "Python 3",
   "language": "python",
   "name": "python3"
  },
  "language_info": {
   "codemirror_mode": {
    "name": "ipython",
    "version": 3
   },
   "file_extension": ".py",
   "mimetype": "text/x-python",
   "name": "python",
   "nbconvert_exporter": "python",
   "pygments_lexer": "ipython3",
   "version": "3.8.2"
  }
 },
 "nbformat": 4,
 "nbformat_minor": 4
}
