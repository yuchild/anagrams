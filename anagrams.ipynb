{
 "cells": [
  {
   "cell_type": "code",
   "execution_count": 1,
   "metadata": {},
   "outputs": [],
   "source": [
    "\"\"\"\n",
    "1. Given 2 strings, s1 and s2, return True if they are anagrams of each other.\n",
    "2. All characters must be used.\n",
    "\"\"\"\n",
    "\n",
    "def anagram(s1, s2):\n",
    "    c1 = {}\n",
    "    c2 = {}\n",
    "    \n",
    "    def count_chars(s):\n",
    "        h = {}\n",
    "        for char in s:\n",
    "            if char in h:\n",
    "                h[char] += 1\n",
    "            else:\n",
    "                h[char] = 1\n",
    "        return h\n",
    "\n",
    "    return count_chars(s1) == count_chars(s2)"
   ]
  },
  {
   "cell_type": "code",
   "execution_count": 2,
   "metadata": {},
   "outputs": [],
   "source": [
    "anagram('word', 'wodr')"
   ]
  },
  {
   "cell_type": "code",
   "execution_count": 3,
   "metadata": {},
   "outputs": [
    {
     "data": {
      "text/plain": [
       "False"
      ]
     },
     "execution_count": 3,
     "metadata": {},
     "output_type": "execute_result"
    }
   ],
   "source": [
    "anagram('dog', 'dogg')"
   ]
  },
  {
   "cell_type": "code",
   "execution_count": 4,
   "metadata": {},
   "outputs": [
    {
     "data": {
      "text/plain": [
       "True"
      ]
     },
     "execution_count": 4,
     "metadata": {},
     "output_type": "execute_result"
    }
   ],
   "source": [
    "anagram('racecar', 'carrace')"
   ]
  },
  {
   "cell_type": "code",
   "execution_count": 5,
   "metadata": {},
   "outputs": [],
   "source": [
    "\"\"\"\n",
    "1. Given a sentence, sent1, and the same sentence with an added word, sent2, return the added word.\n",
    "2. Every sentence, s1, will have at least 1 word.\n",
    "\"\"\"\n",
    "\n",
    "def extra_word(s1, s2):\n",
    "    words = {}\n",
    "    \n",
    "    for word in s1.split(' '):\n",
    "        if word in words:\n",
    "            words[word] += 1\n",
    "        else:\n",
    "            words[word] = 1\n",
    "    \n",
    "    for word in s2.split(' '):\n",
    "        if word in words:\n",
    "            words[word] -= 1\n",
    "        else:\n",
    "            return word"
   ]
  },
  {
   "cell_type": "code",
   "execution_count": 6,
   "metadata": {},
   "outputs": [
    {
     "data": {
      "text/plain": [
       "'fast'"
      ]
     },
     "execution_count": 6,
     "metadata": {},
     "output_type": "execute_result"
    }
   ],
   "source": [
    "extra_word('This is a dog', 'This is a fast dog')"
   ]
  },
  {
   "cell_type": "code",
   "execution_count": 7,
   "metadata": {},
   "outputs": [
    {
     "data": {
      "text/plain": [
       "'The'"
      ]
     },
     "execution_count": 7,
     "metadata": {},
     "output_type": "execute_result"
    }
   ],
   "source": [
    "extra_word('answer', 'The answer')"
   ]
  },
  {
   "cell_type": "code",
   "execution_count": 8,
   "metadata": {},
   "outputs": [
    {
     "data": {
      "text/plain": [
       "'hard'"
      ]
     },
     "execution_count": 8,
     "metadata": {},
     "output_type": "execute_result"
    }
   ],
   "source": [
    "extra_word('Can you solve algorithm questions', 'Can you solve hard algorithm questions')"
   ]
  },
  {
   "cell_type": "code",
   "execution_count": 9,
   "metadata": {},
   "outputs": [],
   "source": [
    "'''\n",
    "1. Given n, return a list of values for every integer from 1 through n.\n",
    "2. If a number is divisible by 3, return 'Fizz' in its place.\n",
    "3. If the number is divisible by 5 return 'Buzz' in its place.\n",
    "4. If the number is divisible by 3 and 5, return 'FizzBuzz' in its place.\n",
    "'''\n",
    "\n",
    "def fizzbuzz(n):\n",
    "    ans = []\n",
    "    for i in range(1, n+1):\n",
    "        if i % 3 == 0 and i % 5 == 0:\n",
    "            ans.append('FizzBuzz')\n",
    "        elif i % 3 == 0:\n",
    "            ans.append('Fizz')\n",
    "        elif i% 5 == 0:\n",
    "            ans.append('Buzz')\n",
    "        else:\n",
    "            ans.append(i)\n",
    "    return ans"
   ]
  },
  {
   "cell_type": "code",
   "execution_count": 10,
   "metadata": {},
   "outputs": [
    {
     "data": {
      "text/plain": [
       "[1,\n",
       " 2,\n",
       " 'Fizz',\n",
       " 4,\n",
       " 'Buzz',\n",
       " 'Fizz',\n",
       " 7,\n",
       " 8,\n",
       " 'Fizz',\n",
       " 'Buzz',\n",
       " 11,\n",
       " 'Fizz',\n",
       " 13,\n",
       " 14,\n",
       " 'FizzBuzz',\n",
       " 16,\n",
       " 17,\n",
       " 'Fizz',\n",
       " 19,\n",
       " 'Buzz']"
      ]
     },
     "execution_count": 10,
     "metadata": {},
     "output_type": "execute_result"
    }
   ],
   "source": [
    "fizzbuzz(20)"
   ]
  },
  {
   "cell_type": "code",
   "execution_count": 11,
   "metadata": {},
   "outputs": [],
   "source": [
    "'''\n",
    "General letter counter\n",
    "'''\n",
    "def count_dict(s):\n",
    "    bag = {}\n",
    "    for x in s:\n",
    "        if x in bag:\n",
    "            bag[x] += 1\n",
    "        else:\n",
    "            bag[x] = 1\n",
    "    return bag"
   ]
  },
  {
   "cell_type": "code",
   "execution_count": 12,
   "metadata": {},
   "outputs": [
    {
     "data": {
      "text/plain": [
       "{'m': 1, 'i': 4, 's': 4, 'p': 2}"
      ]
     },
     "execution_count": 12,
     "metadata": {},
     "output_type": "execute_result"
    }
   ],
   "source": [
    "count_dict('mississippi')"
   ]
  },
  {
   "cell_type": "code",
   "execution_count": 13,
   "metadata": {},
   "outputs": [],
   "source": [
    "'''\n",
    "General word counter\n",
    "'''\n",
    "def count_words(s):\n",
    "    bag = {}\n",
    "    for x in s.split(' '):\n",
    "        if x in bag:\n",
    "            bag[x] += 1\n",
    "        else:\n",
    "            bag[x] = 1\n",
    "    return bag"
   ]
  },
  {
   "cell_type": "code",
   "execution_count": 14,
   "metadata": {},
   "outputs": [
    {
     "data": {
      "text/plain": [
       "{'Tik': 2, 'Tok': 2}"
      ]
     },
     "execution_count": 14,
     "metadata": {},
     "output_type": "execute_result"
    }
   ],
   "source": [
    "count_words('Tik Tok Tik Tok')"
   ]
  },
  {
   "cell_type": "code",
   "execution_count": 15,
   "metadata": {},
   "outputs": [
    {
     "data": {
      "text/plain": [
       "{'birthday', 'error', 'happy', 'june'}"
      ]
     },
     "execution_count": 15,
     "metadata": {},
     "output_type": "execute_result"
    }
   ],
   "source": [
    "'''\n",
    "Sort list of words\n",
    "'''\n",
    "lst = ['happy', 'birthday', 'june', 'error']\n",
    "set_lst = set(lst)\n",
    "set_lst"
   ]
  },
  {
   "cell_type": "code",
   "execution_count": 16,
   "metadata": {},
   "outputs": [
    {
     "data": {
      "text/plain": [
       "['june', 'happy', 'error', 'birthday']"
      ]
     },
     "execution_count": 16,
     "metadata": {},
     "output_type": "execute_result"
    }
   ],
   "source": [
    "lst.sort(key=len)\n",
    "lst"
   ]
  },
  {
   "cell_type": "code",
   "execution_count": 17,
   "metadata": {},
   "outputs": [],
   "source": [
    "'''\n",
    "Redo: are two strings anagrams?\n",
    "'''\n",
    "def ana(s1, s2):\n",
    "    a = {}\n",
    "    b = {}\n",
    "    \n",
    "    for x in s1:\n",
    "        if x in a:\n",
    "            a[x] += 1\n",
    "        else:\n",
    "            a[x] = 1\n",
    "            \n",
    "    for x in s2:\n",
    "        if x in b:\n",
    "            b[x] += 1\n",
    "        else:\n",
    "            b[x] = 1\n",
    "    \n",
    "    return a == b"
   ]
  },
  {
   "cell_type": "code",
   "execution_count": 18,
   "metadata": {},
   "outputs": [
    {
     "data": {
      "text/plain": [
       "True"
      ]
     },
     "execution_count": 18,
     "metadata": {},
     "output_type": "execute_result"
    }
   ],
   "source": [
    "ana('abdc', 'dcba')"
   ]
  },
  {
   "cell_type": "code",
   "execution_count": 19,
   "metadata": {},
   "outputs": [],
   "source": [
    "'''\n",
    "Redo: Find Extra Word\n",
    "'''\n",
    "def extra(s1, s2):\n",
    "    a = {}\n",
    "    \n",
    "    for x in s1.split(' '):\n",
    "        if x in a:\n",
    "            a[x] += 1\n",
    "        else:\n",
    "            a[x] = 1\n",
    "    \n",
    "    for x in s2.split(' '):\n",
    "        if x in a:\n",
    "            a[x] -= 1\n",
    "        else:\n",
    "            return x"
   ]
  },
  {
   "cell_type": "code",
   "execution_count": 20,
   "metadata": {},
   "outputs": [
    {
     "data": {
      "text/plain": [
       "'too'"
      ]
     },
     "execution_count": 20,
     "metadata": {},
     "output_type": "execute_result"
    }
   ],
   "source": [
    "extra('I am happy', 'I am happy too')"
   ]
  },
  {
   "cell_type": "code",
   "execution_count": 21,
   "metadata": {},
   "outputs": [],
   "source": [
    "'''\n",
    "REDO: FIZZBUZZ\n",
    "'''\n",
    "def fizzbuzz(n):\n",
    "    a = []\n",
    "    for x in range(1, n+1):\n",
    "        if (x % 3 == 0 and x % 5 == 0):\n",
    "            a.append('FIZZBUZZ')\n",
    "        elif x % 3 == 0:\n",
    "            a.append('FIZZ')\n",
    "        elif x % 5 == 0:\n",
    "            a.append('BUZZ')\n",
    "        else:\n",
    "            a.append(x)\n",
    "    return a"
   ]
  },
  {
   "cell_type": "code",
   "execution_count": 22,
   "metadata": {},
   "outputs": [
    {
     "data": {
      "text/plain": [
       "[1,\n",
       " 2,\n",
       " 'FIZZ',\n",
       " 4,\n",
       " 'BUZZ',\n",
       " 'FIZZ',\n",
       " 7,\n",
       " 8,\n",
       " 'FIZZ',\n",
       " 'BUZZ',\n",
       " 11,\n",
       " 'FIZZ',\n",
       " 13,\n",
       " 14,\n",
       " 'FIZZBUZZ',\n",
       " 16,\n",
       " 17,\n",
       " 'FIZZ',\n",
       " 19,\n",
       " 'BUZZ',\n",
       " 'FIZZ',\n",
       " 22,\n",
       " 23,\n",
       " 'FIZZ',\n",
       " 'BUZZ',\n",
       " 26,\n",
       " 'FIZZ',\n",
       " 28,\n",
       " 29,\n",
       " 'FIZZBUZZ']"
      ]
     },
     "execution_count": 22,
     "metadata": {},
     "output_type": "execute_result"
    }
   ],
   "source": [
    "fizzbuzz(30)"
   ]
  },
  {
   "cell_type": "code",
   "execution_count": 23,
   "metadata": {},
   "outputs": [],
   "source": [
    "'''\n",
    "Recursive Fibonacci\n",
    "'''\n",
    "def fib(n):\n",
    "    if n == 1:\n",
    "        return 1\n",
    "    elif n == 2:\n",
    "        return 1\n",
    "    return fib(n-1) + fib(n-2)"
   ]
  },
  {
   "cell_type": "code",
   "execution_count": 24,
   "metadata": {},
   "outputs": [
    {
     "data": {
      "text/plain": [
       "[1, 1, 2, 3, 5, 8, 13, 21, 34]"
      ]
     },
     "execution_count": 24,
     "metadata": {},
     "output_type": "execute_result"
    }
   ],
   "source": [
    "[fib(x) for x in range(1,10)]"
   ]
  },
  {
   "cell_type": "code",
   "execution_count": null,
   "metadata": {},
   "outputs": [],
   "source": []
  },
  {
   "cell_type": "code",
   "execution_count": 25,
   "metadata": {},
   "outputs": [],
   "source": [
    "'''\n",
    "Redo: Find non-anagram in list\n",
    "'''\n",
    "def non_ana(lst):\n",
    "    a = []\n",
    "    \n",
    "    for x in lst:\n",
    "        a.append(''.join(sorted(x)))\n",
    "    \n",
    "    for x in a:\n",
    "        for y in a:\n",
    "            if x != y:\n",
    "                return lst[a.index(y)]\n",
    "        "
   ]
  },
  {
   "cell_type": "code",
   "execution_count": 26,
   "metadata": {},
   "outputs": [
    {
     "data": {
      "text/plain": [
       "'afb'"
      ]
     },
     "execution_count": 26,
     "metadata": {},
     "output_type": "execute_result"
    }
   ],
   "source": [
    "non_ana(['acb', 'abc', 'afb', 'cab'])"
   ]
  },
  {
   "cell_type": "code",
   "execution_count": 27,
   "metadata": {},
   "outputs": [],
   "source": [
    "'''\n",
    "Redo: Find Non-Anagram\n",
    "'''\n",
    "def non_ana(lst):\n",
    "    sorted_lst = []\n",
    "    dict_sorted = {}\n",
    "    for x in lst:\n",
    "        a = ''.join(sorted(x))\n",
    "        sorted_lst.append(a)\n",
    "        if a in dict_sorted:\n",
    "            dict_sorted[a] += 1\n",
    "        else:\n",
    "            dict_sorted[a] = 1\n",
    "        \n",
    "    for y in dict_sorted:\n",
    "        if dict_sorted[y] == 1:\n",
    "            b = y\n",
    "    \n",
    "    for z in lst:\n",
    "        if ''.join(sorted(z)) == b:\n",
    "            return z\n",
    "        "
   ]
  },
  {
   "cell_type": "code",
   "execution_count": 28,
   "metadata": {},
   "outputs": [
    {
     "data": {
      "text/plain": [
       "'birthday'"
      ]
     },
     "execution_count": 28,
     "metadata": {},
     "output_type": "execute_result"
    }
   ],
   "source": [
    "non_ana(lst)"
   ]
  },
  {
   "cell_type": "code",
   "execution_count": 29,
   "metadata": {},
   "outputs": [
    {
     "data": {
      "text/plain": [
       "'bbf'"
      ]
     },
     "execution_count": 29,
     "metadata": {},
     "output_type": "execute_result"
    }
   ],
   "source": [
    "non_ana(['abc', 'cba', 'bac', 'bbf', 'acb'])"
   ]
  },
  {
   "cell_type": "code",
   "execution_count": 30,
   "metadata": {},
   "outputs": [
    {
     "data": {
      "text/plain": [
       "['birthday', 'error', 'happy', 'june']"
      ]
     },
     "execution_count": 30,
     "metadata": {},
     "output_type": "execute_result"
    }
   ],
   "source": [
    "sorted(lst)"
   ]
  },
  {
   "cell_type": "code",
   "execution_count": 31,
   "metadata": {},
   "outputs": [],
   "source": [
    "'''\n",
    "Sort list of integer numbers\n",
    "'''\n",
    "def sort(lst):\n",
    "    a = lst\n",
    "    b = []\n",
    "    \n",
    "    while a:\n",
    "        mini = a[0]\n",
    "        for x in a:\n",
    "            if x < mini:\n",
    "                mini = x\n",
    "        b.append(mini)\n",
    "        a.remove(mini)\n",
    "    return b\n",
    "    "
   ]
  },
  {
   "cell_type": "code",
   "execution_count": 32,
   "metadata": {},
   "outputs": [
    {
     "data": {
      "text/plain": [
       "[-10, -7, -2, 0, 8, 10]"
      ]
     },
     "execution_count": 32,
     "metadata": {},
     "output_type": "execute_result"
    }
   ],
   "source": [
    "sort([-10, -7, 0, -2, 8, 10])"
   ]
  },
  {
   "cell_type": "code",
   "execution_count": 33,
   "metadata": {},
   "outputs": [],
   "source": [
    "'''\n",
    "Redo: sort numbers\n",
    "'''\n",
    "def sort_int(lst):\n",
    "    a = lst\n",
    "    b = []\n",
    "    \n",
    "    for _ in range(len(a)):\n",
    "        sm = a[0]\n",
    "        for x in a:\n",
    "            if x < sm:\n",
    "                sm = x\n",
    "        b.append(sm)\n",
    "        a.remove(sm)\n",
    "    return b\n",
    "        "
   ]
  },
  {
   "cell_type": "code",
   "execution_count": 34,
   "metadata": {},
   "outputs": [
    {
     "data": {
      "text/plain": [
       "[-30, -3, 10, 41, 100]"
      ]
     },
     "execution_count": 34,
     "metadata": {},
     "output_type": "execute_result"
    }
   ],
   "source": [
    "sort_int([-30, 100, 10, 41, -3])"
   ]
  },
  {
   "cell_type": "code",
   "execution_count": 35,
   "metadata": {},
   "outputs": [
    {
     "data": {
      "text/plain": [
       "{'b', 'd', 'z'}"
      ]
     },
     "execution_count": 35,
     "metadata": {},
     "output_type": "execute_result"
    }
   ],
   "source": [
    "set(['b', 'd', 'z'])"
   ]
  },
  {
   "cell_type": "code",
   "execution_count": 36,
   "metadata": {},
   "outputs": [],
   "source": [
    "'''\n",
    "Redo: sort integers\n",
    "'''\n",
    "def sort_int(lst):\n",
    "    a = lst\n",
    "    b = []\n",
    "    \n",
    "    for _ in range(len(lst)):\n",
    "        mini = a[0]\n",
    "        for x in a:\n",
    "            if x < mini:\n",
    "                mini = x\n",
    "        b.append(mini)\n",
    "        a.remove(mini)\n",
    "    \n",
    "    return b"
   ]
  },
  {
   "cell_type": "code",
   "execution_count": 37,
   "metadata": {},
   "outputs": [
    {
     "data": {
      "text/plain": [
       "[-3000, -200, -10, -1, 0, 8, 10]"
      ]
     },
     "execution_count": 37,
     "metadata": {},
     "output_type": "execute_result"
    }
   ],
   "source": [
    "sort_int([-10, -1, 0, 8, 10, -200, -3000])"
   ]
  },
  {
   "cell_type": "code",
   "execution_count": 38,
   "metadata": {},
   "outputs": [],
   "source": [
    "data_dict = {'item':['a', 'b', 'c', 'a', 'b', 'c', 'a', 'b', 'c']\n",
    "             , 'price_sold': [10, 5, 2, 12, 7, 3, 17, 9, 1]\n",
    "             , 'expensive': ['yes', 'no', 'no', 'yes', 'yes', 'no', 'yes', 'yes', 'no']\n",
    "            }"
   ]
  },
  {
   "cell_type": "code",
   "execution_count": 39,
   "metadata": {},
   "outputs": [],
   "source": [
    "import pandas as pd\n",
    "import numpy as np"
   ]
  },
  {
   "cell_type": "code",
   "execution_count": 40,
   "metadata": {},
   "outputs": [
    {
     "data": {
      "text/html": [
       "<div>\n",
       "<style scoped>\n",
       "    .dataframe tbody tr th:only-of-type {\n",
       "        vertical-align: middle;\n",
       "    }\n",
       "\n",
       "    .dataframe tbody tr th {\n",
       "        vertical-align: top;\n",
       "    }\n",
       "\n",
       "    .dataframe thead th {\n",
       "        text-align: right;\n",
       "    }\n",
       "</style>\n",
       "<table border=\"1\" class=\"dataframe\">\n",
       "  <thead>\n",
       "    <tr style=\"text-align: right;\">\n",
       "      <th></th>\n",
       "      <th>item</th>\n",
       "      <th>price_sold</th>\n",
       "      <th>expensive</th>\n",
       "    </tr>\n",
       "  </thead>\n",
       "  <tbody>\n",
       "    <tr>\n",
       "      <th>0</th>\n",
       "      <td>a</td>\n",
       "      <td>10</td>\n",
       "      <td>yes</td>\n",
       "    </tr>\n",
       "    <tr>\n",
       "      <th>1</th>\n",
       "      <td>b</td>\n",
       "      <td>5</td>\n",
       "      <td>no</td>\n",
       "    </tr>\n",
       "    <tr>\n",
       "      <th>2</th>\n",
       "      <td>c</td>\n",
       "      <td>2</td>\n",
       "      <td>no</td>\n",
       "    </tr>\n",
       "    <tr>\n",
       "      <th>3</th>\n",
       "      <td>a</td>\n",
       "      <td>12</td>\n",
       "      <td>yes</td>\n",
       "    </tr>\n",
       "    <tr>\n",
       "      <th>4</th>\n",
       "      <td>b</td>\n",
       "      <td>7</td>\n",
       "      <td>yes</td>\n",
       "    </tr>\n",
       "    <tr>\n",
       "      <th>5</th>\n",
       "      <td>c</td>\n",
       "      <td>3</td>\n",
       "      <td>no</td>\n",
       "    </tr>\n",
       "    <tr>\n",
       "      <th>6</th>\n",
       "      <td>a</td>\n",
       "      <td>17</td>\n",
       "      <td>yes</td>\n",
       "    </tr>\n",
       "    <tr>\n",
       "      <th>7</th>\n",
       "      <td>b</td>\n",
       "      <td>9</td>\n",
       "      <td>yes</td>\n",
       "    </tr>\n",
       "    <tr>\n",
       "      <th>8</th>\n",
       "      <td>c</td>\n",
       "      <td>1</td>\n",
       "      <td>no</td>\n",
       "    </tr>\n",
       "  </tbody>\n",
       "</table>\n",
       "</div>"
      ],
      "text/plain": [
       "  item  price_sold expensive\n",
       "0    a          10       yes\n",
       "1    b           5        no\n",
       "2    c           2        no\n",
       "3    a          12       yes\n",
       "4    b           7       yes\n",
       "5    c           3        no\n",
       "6    a          17       yes\n",
       "7    b           9       yes\n",
       "8    c           1        no"
      ]
     },
     "execution_count": 40,
     "metadata": {},
     "output_type": "execute_result"
    }
   ],
   "source": [
    "data_df = pd.DataFrame(data_dict)\n",
    "data_df"
   ]
  },
  {
   "cell_type": "code",
   "execution_count": 41,
   "metadata": {},
   "outputs": [
    {
     "data": {
      "text/html": [
       "<div>\n",
       "<style scoped>\n",
       "    .dataframe tbody tr th:only-of-type {\n",
       "        vertical-align: middle;\n",
       "    }\n",
       "\n",
       "    .dataframe tbody tr th {\n",
       "        vertical-align: top;\n",
       "    }\n",
       "\n",
       "    .dataframe thead th {\n",
       "        text-align: right;\n",
       "    }\n",
       "</style>\n",
       "<table border=\"1\" class=\"dataframe\">\n",
       "  <thead>\n",
       "    <tr style=\"text-align: right;\">\n",
       "      <th></th>\n",
       "      <th>item</th>\n",
       "      <th>price_sold</th>\n",
       "      <th>expensive</th>\n",
       "    </tr>\n",
       "  </thead>\n",
       "  <tbody>\n",
       "    <tr>\n",
       "      <th>0</th>\n",
       "      <td>a</td>\n",
       "      <td>10</td>\n",
       "      <td>yes</td>\n",
       "    </tr>\n",
       "    <tr>\n",
       "      <th>3</th>\n",
       "      <td>a</td>\n",
       "      <td>12</td>\n",
       "      <td>yes</td>\n",
       "    </tr>\n",
       "    <tr>\n",
       "      <th>6</th>\n",
       "      <td>a</td>\n",
       "      <td>17</td>\n",
       "      <td>yes</td>\n",
       "    </tr>\n",
       "  </tbody>\n",
       "</table>\n",
       "</div>"
      ],
      "text/plain": [
       "  item  price_sold expensive\n",
       "0    a          10       yes\n",
       "3    a          12       yes\n",
       "6    a          17       yes"
      ]
     },
     "execution_count": 41,
     "metadata": {},
     "output_type": "execute_result"
    }
   ],
   "source": [
    "grouped_df = data_df.groupby('item')\n",
    "grouped_df.get_group('a')"
   ]
  },
  {
   "cell_type": "code",
   "execution_count": 42,
   "metadata": {},
   "outputs": [],
   "source": [
    "'''\n",
    "Redo: Anagrams\n",
    "'''\n",
    "def ana(s1, s2):\n",
    "    a = {}\n",
    "    b = {}\n",
    "    \n",
    "    for x in s1:\n",
    "        if x in a:\n",
    "            a[x] += 1\n",
    "        else:\n",
    "            a[x] = 1\n",
    "    \n",
    "    for y in s2:\n",
    "        if y in b:\n",
    "            b[y] += 1\n",
    "        else:\n",
    "            b[y] = 1\n",
    "    \n",
    "    return a == b"
   ]
  },
  {
   "cell_type": "code",
   "execution_count": 43,
   "metadata": {},
   "outputs": [
    {
     "data": {
      "text/plain": [
       "False"
      ]
     },
     "execution_count": 43,
     "metadata": {},
     "output_type": "execute_result"
    }
   ],
   "source": [
    "ana('abc', 'dab')"
   ]
  },
  {
   "cell_type": "code",
   "execution_count": 44,
   "metadata": {},
   "outputs": [],
   "source": [
    "'''\n",
    "Redo: Extra string\n",
    "'''\n",
    "def extra(s1, s2):\n",
    "    if len(s1) > len(s2):\n",
    "        first = s2\n",
    "        second = s1\n",
    "    else:\n",
    "        first = s1\n",
    "        second = s2\n",
    "    a = {}\n",
    "    for x in first.split(' '):\n",
    "        if x in a:\n",
    "            a[x] += 1\n",
    "        else:\n",
    "            a[x] = 1\n",
    "    \n",
    "    for x in second.split(' '): \n",
    "        if x in a:\n",
    "            a[x] -= 1\n",
    "        else:\n",
    "            return x"
   ]
  },
  {
   "cell_type": "code",
   "execution_count": 45,
   "metadata": {},
   "outputs": [
    {
     "data": {
      "text/plain": [
       "'too'"
      ]
     },
     "execution_count": 45,
     "metadata": {},
     "output_type": "execute_result"
    }
   ],
   "source": [
    "extra('i am happy', 'i am happy too')"
   ]
  },
  {
   "cell_type": "code",
   "execution_count": 46,
   "metadata": {},
   "outputs": [
    {
     "data": {
      "text/plain": [
       "'too'"
      ]
     },
     "execution_count": 46,
     "metadata": {},
     "output_type": "execute_result"
    }
   ],
   "source": [
    "extra('i too am happy', 'i am happy')"
   ]
  },
  {
   "cell_type": "code",
   "execution_count": 47,
   "metadata": {},
   "outputs": [],
   "source": [
    "'''\n",
    "Redo: Find non-anagrams from list\n",
    "'''\n",
    "def non_ana(lst):\n",
    "    sorted_lst = [''.join(sorted(x)) for x in lst]\n",
    "    sorted_dict = {}\n",
    "    for x in sorted_lst:\n",
    "        if x in sorted_dict:\n",
    "            sorted_dict[x] += 1\n",
    "        else: \n",
    "            sorted_dict[x] = 1\n",
    "    \n",
    "    for x in lst:\n",
    "        if sorted_dict[''.join(sorted(x))] == 1:\n",
    "            return x"
   ]
  },
  {
   "cell_type": "code",
   "execution_count": 48,
   "metadata": {},
   "outputs": [
    {
     "data": {
      "text/plain": [
       "'adc'"
      ]
     },
     "execution_count": 48,
     "metadata": {},
     "output_type": "execute_result"
    }
   ],
   "source": [
    "non_ana(['abc', 'acb', 'adc', 'bac'])"
   ]
  },
  {
   "cell_type": "code",
   "execution_count": 49,
   "metadata": {},
   "outputs": [
    {
     "data": {
      "text/plain": [
       "['a', 'b', 'c']"
      ]
     },
     "execution_count": 49,
     "metadata": {},
     "output_type": "execute_result"
    }
   ],
   "source": [
    "lst = ['abc', 'cba', 'cab']\n",
    "sorted(lst[1])"
   ]
  },
  {
   "cell_type": "code",
   "execution_count": 50,
   "metadata": {},
   "outputs": [],
   "source": [
    "'''\n",
    "Redo: non-anagram\n",
    "'''\n",
    "def non_ana(lst):\n",
    "    sorted_lst = [''.join(sorted(x)) for x in lst]\n",
    "    sorted_dict = {}\n",
    "    \n",
    "    for x in sorted_lst:\n",
    "        if x in sorted_dict:\n",
    "            sorted_dict[x] += 1\n",
    "        else:\n",
    "            sorted_dict[x] = 1\n",
    "        \n",
    "    for x in lst:\n",
    "        if sorted_dict[''.join(sorted(x))] == 1:\n",
    "            return x\n",
    "    "
   ]
  },
  {
   "cell_type": "code",
   "execution_count": 51,
   "metadata": {},
   "outputs": [
    {
     "data": {
      "text/plain": [
       "'fzg'"
      ]
     },
     "execution_count": 51,
     "metadata": {},
     "output_type": "execute_result"
    }
   ],
   "source": [
    "non_ana(['abc', 'acb', 'bac', 'fzg'])"
   ]
  },
  {
   "cell_type": "code",
   "execution_count": 52,
   "metadata": {},
   "outputs": [],
   "source": [
    "'''\n",
    "Redo: Sort integer list without using sorted functions\n",
    "'''\n",
    "def sort(lst):\n",
    "    a = []\n",
    "    b = lst\n",
    "    \n",
    "    for _ in range(len(lst)):\n",
    "        sm = b[0]\n",
    "        for x in b:\n",
    "            if x < sm:\n",
    "                sm = x\n",
    "        a.append(sm)\n",
    "        b.remove(sm)\n",
    "    return a\n",
    "    "
   ]
  },
  {
   "cell_type": "code",
   "execution_count": 53,
   "metadata": {},
   "outputs": [
    {
     "data": {
      "text/plain": [
       "[-20, -3, 1, 4, 5]"
      ]
     },
     "execution_count": 53,
     "metadata": {},
     "output_type": "execute_result"
    }
   ],
   "source": [
    "sort([1, -3, 5, -20, 4])"
   ]
  },
  {
   "cell_type": "code",
   "execution_count": 54,
   "metadata": {},
   "outputs": [],
   "source": [
    "'''\n",
    "Redo: Sort integer list\n",
    "'''\n",
    "def sort(lst):\n",
    "    a = lst\n",
    "    b = []\n",
    "    \n",
    "    for _ in range(len(lst)):\n",
    "        sm = a[0]\n",
    "        for x in a:\n",
    "            if x < sm:\n",
    "                sm = x\n",
    "        b.append(sm)\n",
    "        a.remove(sm)\n",
    "    return b"
   ]
  },
  {
   "cell_type": "code",
   "execution_count": 55,
   "metadata": {},
   "outputs": [
    {
     "data": {
      "text/plain": [
       "[-10, -5, -1, 3, 7, 10]"
      ]
     },
     "execution_count": 55,
     "metadata": {},
     "output_type": "execute_result"
    }
   ],
   "source": [
    "sort([-1, -10, 3, -5, 7, 10])"
   ]
  },
  {
   "cell_type": "code",
   "execution_count": 56,
   "metadata": {},
   "outputs": [],
   "source": [
    "'''\n",
    "Redo: Extra String\n",
    "'''\n",
    "def extra(s1, s2):\n",
    "    if len(s1) > len(s2):\n",
    "        first = s2\n",
    "        second = s1\n",
    "    else:\n",
    "        first = s1\n",
    "        second = s2\n",
    "    \n",
    "    word_dict = {}\n",
    "    for x in first.split(' '):\n",
    "        if x in word_dict:\n",
    "            word_dict[x] += 1\n",
    "        else:\n",
    "            word_dict[x] = 1\n",
    "    \n",
    "    for y in second.split(' '):\n",
    "        if y in word_dict:\n",
    "            word_dict[x] -= 1\n",
    "        else:\n",
    "            return y"
   ]
  },
  {
   "cell_type": "code",
   "execution_count": 57,
   "metadata": {},
   "outputs": [
    {
     "data": {
      "text/plain": [
       "'too'"
      ]
     },
     "execution_count": 57,
     "metadata": {},
     "output_type": "execute_result"
    }
   ],
   "source": [
    "extra('i am happy too', 'i am happy')"
   ]
  },
  {
   "cell_type": "code",
   "execution_count": 58,
   "metadata": {},
   "outputs": [],
   "source": [
    "'''\n",
    "Redo: FizzBuzz\n",
    "'''\n",
    "def fizzbuzz(n):\n",
    "    a = []\n",
    "    for x in range(1, n+1):\n",
    "        if x % 3 == 0 and x % 5 == 0:\n",
    "            a.append('FizzBuzz')\n",
    "        elif x % 3 == 0:\n",
    "            a.append('Fizz')\n",
    "        elif x % 5 == 0:\n",
    "            a.append('Buzz')\n",
    "        else:\n",
    "            a.append(x)\n",
    "            \n",
    "    return a"
   ]
  },
  {
   "cell_type": "code",
   "execution_count": 59,
   "metadata": {},
   "outputs": [
    {
     "data": {
      "text/plain": [
       "[1,\n",
       " 2,\n",
       " 'Fizz',\n",
       " 4,\n",
       " 'Buzz',\n",
       " 'Fizz',\n",
       " 7,\n",
       " 8,\n",
       " 'Fizz',\n",
       " 'Buzz',\n",
       " 11,\n",
       " 'Fizz',\n",
       " 13,\n",
       " 14,\n",
       " 'FizzBuzz',\n",
       " 16,\n",
       " 17,\n",
       " 'Fizz',\n",
       " 19,\n",
       " 'Buzz']"
      ]
     },
     "execution_count": 59,
     "metadata": {},
     "output_type": "execute_result"
    }
   ],
   "source": [
    "fizzbuzz(20)"
   ]
  },
  {
   "cell_type": "code",
   "execution_count": 60,
   "metadata": {},
   "outputs": [],
   "source": [
    "'''\n",
    "Redo: Anagram? \n",
    "'''\n",
    "def ana(s1, s2):\n",
    "    a = {}\n",
    "    b = {}\n",
    "    \n",
    "    for x in s1:\n",
    "        if x in a:\n",
    "            a[x] += 1\n",
    "        else:\n",
    "            a[x] = 1\n",
    "    \n",
    "    for y in s2:\n",
    "        if y in b:\n",
    "            b[y] += 1\n",
    "        else:\n",
    "            b[y] = 1\n",
    "    \n",
    "    return a == b"
   ]
  },
  {
   "cell_type": "code",
   "execution_count": 61,
   "metadata": {},
   "outputs": [
    {
     "data": {
      "text/plain": [
       "False"
      ]
     },
     "execution_count": 61,
     "metadata": {},
     "output_type": "execute_result"
    }
   ],
   "source": [
    "ana('abc', 'cfb')"
   ]
  },
  {
   "cell_type": "code",
   "execution_count": 62,
   "metadata": {},
   "outputs": [],
   "source": [
    "'''\n",
    "Redo: Sort list of integers\n",
    "'''\n",
    "def sort(lst):\n",
    "    a = lst\n",
    "    b = []\n",
    "    \n",
    "    for _ in range(len(lst)):\n",
    "        smallest = a[0]\n",
    "        for x in a:\n",
    "            if x < smallest:\n",
    "                smallest = x\n",
    "        a.remove(smallest)\n",
    "        b.append(smallest)\n",
    "    \n",
    "    return b"
   ]
  },
  {
   "cell_type": "code",
   "execution_count": 63,
   "metadata": {},
   "outputs": [
    {
     "data": {
      "text/plain": [
       "[-100, -3, 1, 5, 52]"
      ]
     },
     "execution_count": 63,
     "metadata": {},
     "output_type": "execute_result"
    }
   ],
   "source": [
    "sort([1, -3, 5, -100, 52])"
   ]
  },
  {
   "cell_type": "code",
   "execution_count": 64,
   "metadata": {},
   "outputs": [],
   "source": [
    "'''\n",
    "Redo: Two strings anagrams?\n",
    "'''\n",
    "def ana(s1, s2):\n",
    "    a = {}\n",
    "    b = {}\n",
    "    \n",
    "    for x in s1:\n",
    "        if x in a:\n",
    "            a[x] += 1\n",
    "        else:\n",
    "            a[x] = 1\n",
    "    \n",
    "    for y in s2:\n",
    "        if y in b:\n",
    "            b[y] += 1\n",
    "        else:\n",
    "            b[y] = 1\n",
    "    \n",
    "    return b == a"
   ]
  },
  {
   "cell_type": "code",
   "execution_count": 65,
   "metadata": {},
   "outputs": [
    {
     "data": {
      "text/plain": [
       "True"
      ]
     },
     "execution_count": 65,
     "metadata": {},
     "output_type": "execute_result"
    }
   ],
   "source": [
    "ana('abc', 'cba')"
   ]
  },
  {
   "cell_type": "code",
   "execution_count": 66,
   "metadata": {},
   "outputs": [],
   "source": [
    "'''\n",
    "Redo: Return extra word\n",
    "'''\n",
    "def extra(s1, s2):\n",
    "    if len(s1) > len(s2):\n",
    "        first = s2\n",
    "        second = s1\n",
    "    else:\n",
    "        first = s1\n",
    "        second = s2\n",
    "    \n",
    "    a = {}\n",
    "    \n",
    "    for x in first.split(' '):\n",
    "        if x in a:\n",
    "            a[x] += 1\n",
    "        else:\n",
    "            a[x] = 1\n",
    "    \n",
    "    for y in second.split(' '):\n",
    "        if y in a:\n",
    "            a[x] -= 1\n",
    "        else:\n",
    "            return y"
   ]
  },
  {
   "cell_type": "code",
   "execution_count": 67,
   "metadata": {},
   "outputs": [
    {
     "data": {
      "text/plain": [
       "'too'"
      ]
     },
     "execution_count": 67,
     "metadata": {},
     "output_type": "execute_result"
    }
   ],
   "source": [
    "extra('i am happy too', 'i am happy')"
   ]
  },
  {
   "cell_type": "code",
   "execution_count": 68,
   "metadata": {},
   "outputs": [],
   "source": [
    "'''\n",
    "Redo: find non-anagram in list\n",
    "'''\n",
    "def non_ana(lst):\n",
    "    sorted_lst = [''.join(sorted(x)) for x in lst]\n",
    "    sorted_lst_dict = {}\n",
    "    \n",
    "    for x in sorted_lst:\n",
    "        if x in sorted_lst_dict:\n",
    "            sorted_lst_dict[x] += 1\n",
    "        else:\n",
    "            sorted_lst_dict[x] = 1\n",
    "            \n",
    "    for y in lst:\n",
    "        if sorted_lst_dict[''.join(sorted(y))] == 1:\n",
    "            return y"
   ]
  },
  {
   "cell_type": "code",
   "execution_count": 69,
   "metadata": {},
   "outputs": [
    {
     "data": {
      "text/plain": [
       "'dbc'"
      ]
     },
     "execution_count": 69,
     "metadata": {},
     "output_type": "execute_result"
    }
   ],
   "source": [
    "non_ana(['dbc', 'cba', 'cab', 'abc'])"
   ]
  },
  {
   "cell_type": "code",
   "execution_count": 70,
   "metadata": {},
   "outputs": [],
   "source": [
    "'''\n",
    "Redo: FizzBuzz\n",
    "'''\n",
    "\n",
    "def fizzbuzz(n):\n",
    "    a = []\n",
    "    for x in range(1, n+1):\n",
    "        if x % 3 == 0 and x % 5 == 0:\n",
    "            a.append('FizzBuzz')\n",
    "        elif x % 3 == 0:\n",
    "            a.append('Fizz')\n",
    "        elif x % 5 == 0:\n",
    "            a.append('Buzz')\n",
    "        else:\n",
    "            a.append(x)\n",
    "    return a"
   ]
  },
  {
   "cell_type": "code",
   "execution_count": 71,
   "metadata": {},
   "outputs": [
    {
     "data": {
      "text/plain": [
       "[1,\n",
       " 2,\n",
       " 'Fizz',\n",
       " 4,\n",
       " 'Buzz',\n",
       " 'Fizz',\n",
       " 7,\n",
       " 8,\n",
       " 'Fizz',\n",
       " 'Buzz',\n",
       " 11,\n",
       " 'Fizz',\n",
       " 13,\n",
       " 14,\n",
       " 'FizzBuzz',\n",
       " 16,\n",
       " 17,\n",
       " 'Fizz',\n",
       " 19,\n",
       " 'Buzz',\n",
       " 'Fizz',\n",
       " 22,\n",
       " 23,\n",
       " 'Fizz',\n",
       " 'Buzz',\n",
       " 26,\n",
       " 'Fizz',\n",
       " 28,\n",
       " 29,\n",
       " 'FizzBuzz']"
      ]
     },
     "execution_count": 71,
     "metadata": {},
     "output_type": "execute_result"
    }
   ],
   "source": [
    "fizzbuzz(30)"
   ]
  },
  {
   "cell_type": "code",
   "execution_count": 72,
   "metadata": {},
   "outputs": [],
   "source": [
    "'''\n",
    "Redo: sort integers in list\n",
    "'''\n",
    "def sort(lst):\n",
    "    a = lst\n",
    "    b = []\n",
    "    \n",
    "    for _ in range(len(lst)):\n",
    "        smallest = a[0]\n",
    "        for x in a:\n",
    "            if x < smallest:\n",
    "                smallest = x\n",
    "        a.remove(smallest)\n",
    "        b.append(smallest)\n",
    "    \n",
    "    return b"
   ]
  },
  {
   "cell_type": "code",
   "execution_count": 73,
   "metadata": {},
   "outputs": [
    {
     "data": {
      "text/plain": [
       "[-200, -38, 0, 1, 8, 35]"
      ]
     },
     "execution_count": 73,
     "metadata": {},
     "output_type": "execute_result"
    }
   ],
   "source": [
    "sort([1, 8, -38, -200, 0, 35])"
   ]
  },
  {
   "cell_type": "code",
   "execution_count": 74,
   "metadata": {},
   "outputs": [],
   "source": [
    "'''\n",
    "Number of evens and odds\n",
    "'''\n",
    "def evens(mtx):\n",
    "    import numpy as np\n",
    "    mat = np.array(mtx)\n",
    "    e_o_dict = {'evens': len(mat[mat%2!=1])\n",
    "                , 'odds': len(mat[mat%2==1])\n",
    "               }\n",
    "    return e_o_dict"
   ]
  },
  {
   "cell_type": "code",
   "execution_count": 75,
   "metadata": {},
   "outputs": [
    {
     "data": {
      "text/plain": [
       "{'evens': 1, 'odds': 5}"
      ]
     },
     "execution_count": 75,
     "metadata": {},
     "output_type": "execute_result"
    }
   ],
   "source": [
    "evens([[1, 3, 7], [4, 5, 9]])"
   ]
  },
  {
   "cell_type": "code",
   "execution_count": 76,
   "metadata": {},
   "outputs": [
    {
     "data": {
      "text/plain": [
       "array([[7, 9],\n",
       "       [3, 5],\n",
       "       [1, 4]])"
      ]
     },
     "execution_count": 76,
     "metadata": {},
     "output_type": "execute_result"
    }
   ],
   "source": [
    "mat1 = np.array([[1, 3, 7], [4, 5, 9]])\n",
    "np.rot90(mat1)"
   ]
  },
  {
   "cell_type": "code",
   "execution_count": 77,
   "metadata": {},
   "outputs": [],
   "source": [
    "''' \n",
    "Redo: fizzbuzz\n",
    "'''\n",
    "def fizzbuzz(n):\n",
    "    ans = []\n",
    "    for x in range(1, n+1):\n",
    "        if x % 5 == 0 and x % 3 == 0:\n",
    "            ans.append('fizzbuzz')\n",
    "        elif x % 3 == 0:\n",
    "            ans.append('fizz')\n",
    "        elif x % 5 == 0:\n",
    "            ans.append('buzz')\n",
    "        else:\n",
    "            ans.append(x)\n",
    "    return ans"
   ]
  },
  {
   "cell_type": "code",
   "execution_count": 78,
   "metadata": {},
   "outputs": [
    {
     "data": {
      "text/plain": [
       "[1,\n",
       " 2,\n",
       " 'fizz',\n",
       " 4,\n",
       " 'buzz',\n",
       " 'fizz',\n",
       " 7,\n",
       " 8,\n",
       " 'fizz',\n",
       " 'buzz',\n",
       " 11,\n",
       " 'fizz',\n",
       " 13,\n",
       " 14,\n",
       " 'fizzbuzz',\n",
       " 16,\n",
       " 17,\n",
       " 'fizz',\n",
       " 19,\n",
       " 'buzz',\n",
       " 'fizz',\n",
       " 22,\n",
       " 23,\n",
       " 'fizz',\n",
       " 'buzz',\n",
       " 26,\n",
       " 'fizz',\n",
       " 28,\n",
       " 29,\n",
       " 'fizzbuzz']"
      ]
     },
     "execution_count": 78,
     "metadata": {},
     "output_type": "execute_result"
    }
   ],
   "source": [
    "fizzbuzz(30)"
   ]
  },
  {
   "cell_type": "code",
   "execution_count": 79,
   "metadata": {},
   "outputs": [],
   "source": [
    "'''\n",
    "Redo: anagrams?\n",
    "'''\n",
    "def ana(s1, s2):\n",
    "    dict_a = {}\n",
    "    dict_b = {}\n",
    "    \n",
    "    for x in s1:\n",
    "        if x in dict_a:\n",
    "            dict_a[x] += 1\n",
    "        else:\n",
    "            dict_a[x] = 1\n",
    "\n",
    "    for y in s2:\n",
    "        if y in dict_b:\n",
    "            dict_b[y] += 1\n",
    "        else:\n",
    "            dict_b[y] = 1\n",
    "    \n",
    "    return dict_a == dict_b"
   ]
  },
  {
   "cell_type": "code",
   "execution_count": 80,
   "metadata": {},
   "outputs": [
    {
     "data": {
      "text/plain": [
       "True"
      ]
     },
     "execution_count": 80,
     "metadata": {},
     "output_type": "execute_result"
    }
   ],
   "source": [
    "ana('abc', 'acb')"
   ]
  },
  {
   "cell_type": "code",
   "execution_count": 81,
   "metadata": {},
   "outputs": [],
   "source": [
    "'''\n",
    "Redo: extra word\n",
    "'''\n",
    "def extra(s1, s2):\n",
    "    if len(s1) > len(s2):\n",
    "        first = s2\n",
    "        second = s1\n",
    "    else:\n",
    "        first = s1\n",
    "        second = s2\n",
    "        \n",
    "    dict_a = {}\n",
    "    \n",
    "    for x in first.split(' '):\n",
    "        if x in dict_a:\n",
    "            dict_a[x] += 1\n",
    "        else: \n",
    "            dict_a[x] = 1\n",
    "    \n",
    "    for y in second.split(' '):\n",
    "        if y in dict_a:\n",
    "            dict_a[y] -= 1\n",
    "        else:\n",
    "            return y"
   ]
  },
  {
   "cell_type": "code",
   "execution_count": 82,
   "metadata": {},
   "outputs": [
    {
     "data": {
      "text/plain": [
       "'too'"
      ]
     },
     "execution_count": 82,
     "metadata": {},
     "output_type": "execute_result"
    }
   ],
   "source": [
    "extra('i too have peanuts', 'i have peanuts')"
   ]
  },
  {
   "cell_type": "code",
   "execution_count": 83,
   "metadata": {},
   "outputs": [],
   "source": [
    "'''\n",
    "Redo Extra anagram from list\n",
    "'''\n",
    "def extra_ana(lst):\n",
    "    word_sorted = [''.join(sorted(x)) for x in lst]\n",
    "    word_dict = {}\n",
    "    \n",
    "    for x in word_sorted:\n",
    "        if x in word_dict:\n",
    "            word_dict[x] += 1\n",
    "        else:\n",
    "            word_dict[x] = 1\n",
    "    \n",
    "    for x in lst:\n",
    "        if word_dict[''.join(sorted(x))] == 1:\n",
    "            return x        "
   ]
  },
  {
   "cell_type": "code",
   "execution_count": 84,
   "metadata": {},
   "outputs": [
    {
     "data": {
      "text/plain": [
       "'fft'"
      ]
     },
     "execution_count": 84,
     "metadata": {},
     "output_type": "execute_result"
    }
   ],
   "source": [
    "extra_ana(['fft', 'abc', 'acb', 'bca', 'bac'])"
   ]
  },
  {
   "cell_type": "code",
   "execution_count": 85,
   "metadata": {},
   "outputs": [],
   "source": [
    "'''\n",
    "Redo: Sort integer list without using sorted()\n",
    "'''\n",
    "def sort(lst):\n",
    "    dummy = lst\n",
    "    ans = []\n",
    "    \n",
    "    for _ in range(len(lst)):\n",
    "        smallest = dummy[0]\n",
    "        for x in dummy:\n",
    "            if x < smallest:\n",
    "                smallest = x\n",
    "        ans.append(smallest)\n",
    "        dummy.remove(smallest)\n",
    "    \n",
    "    return ans"
   ]
  },
  {
   "cell_type": "code",
   "execution_count": 86,
   "metadata": {},
   "outputs": [
    {
     "data": {
      "text/plain": [
       "[-200, -15, 3, 62]"
      ]
     },
     "execution_count": 86,
     "metadata": {},
     "output_type": "execute_result"
    }
   ],
   "source": [
    "sort([-15, 3, 62, -200])"
   ]
  },
  {
   "cell_type": "code",
   "execution_count": 87,
   "metadata": {},
   "outputs": [
    {
     "data": {
      "text/html": [
       "<div>\n",
       "<style scoped>\n",
       "    .dataframe tbody tr th:only-of-type {\n",
       "        vertical-align: middle;\n",
       "    }\n",
       "\n",
       "    .dataframe tbody tr th {\n",
       "        vertical-align: top;\n",
       "    }\n",
       "\n",
       "    .dataframe thead th {\n",
       "        text-align: right;\n",
       "    }\n",
       "</style>\n",
       "<table border=\"1\" class=\"dataframe\">\n",
       "  <thead>\n",
       "    <tr style=\"text-align: right;\">\n",
       "      <th></th>\n",
       "      <th>item</th>\n",
       "      <th>price_sold</th>\n",
       "      <th>expensive</th>\n",
       "    </tr>\n",
       "  </thead>\n",
       "  <tbody>\n",
       "    <tr>\n",
       "      <th>0</th>\n",
       "      <td>a</td>\n",
       "      <td>10</td>\n",
       "      <td>yes</td>\n",
       "    </tr>\n",
       "    <tr>\n",
       "      <th>1</th>\n",
       "      <td>b</td>\n",
       "      <td>5</td>\n",
       "      <td>no</td>\n",
       "    </tr>\n",
       "    <tr>\n",
       "      <th>2</th>\n",
       "      <td>c</td>\n",
       "      <td>2</td>\n",
       "      <td>no</td>\n",
       "    </tr>\n",
       "    <tr>\n",
       "      <th>3</th>\n",
       "      <td>a</td>\n",
       "      <td>12</td>\n",
       "      <td>yes</td>\n",
       "    </tr>\n",
       "    <tr>\n",
       "      <th>4</th>\n",
       "      <td>b</td>\n",
       "      <td>7</td>\n",
       "      <td>yes</td>\n",
       "    </tr>\n",
       "    <tr>\n",
       "      <th>5</th>\n",
       "      <td>c</td>\n",
       "      <td>3</td>\n",
       "      <td>no</td>\n",
       "    </tr>\n",
       "    <tr>\n",
       "      <th>6</th>\n",
       "      <td>a</td>\n",
       "      <td>17</td>\n",
       "      <td>yes</td>\n",
       "    </tr>\n",
       "    <tr>\n",
       "      <th>7</th>\n",
       "      <td>b</td>\n",
       "      <td>9</td>\n",
       "      <td>yes</td>\n",
       "    </tr>\n",
       "    <tr>\n",
       "      <th>8</th>\n",
       "      <td>c</td>\n",
       "      <td>1</td>\n",
       "      <td>no</td>\n",
       "    </tr>\n",
       "  </tbody>\n",
       "</table>\n",
       "</div>"
      ],
      "text/plain": [
       "  item  price_sold expensive\n",
       "0    a          10       yes\n",
       "1    b           5        no\n",
       "2    c           2        no\n",
       "3    a          12       yes\n",
       "4    b           7       yes\n",
       "5    c           3        no\n",
       "6    a          17       yes\n",
       "7    b           9       yes\n",
       "8    c           1        no"
      ]
     },
     "execution_count": 87,
     "metadata": {},
     "output_type": "execute_result"
    }
   ],
   "source": [
    "data_df"
   ]
  },
  {
   "cell_type": "code",
   "execution_count": 88,
   "metadata": {},
   "outputs": [
    {
     "data": {
      "text/plain": [
       "13.0"
      ]
     },
     "execution_count": 88,
     "metadata": {},
     "output_type": "execute_result"
    }
   ],
   "source": [
    "grouped = data_df.groupby('item')\n",
    "grouped.get_group('a').price_sold.mean()"
   ]
  },
  {
   "cell_type": "code",
   "execution_count": 89,
   "metadata": {},
   "outputs": [],
   "source": [
    "import json"
   ]
  },
  {
   "cell_type": "code",
   "execution_count": 90,
   "metadata": {},
   "outputs": [],
   "source": [
    "x =  '{ \"name\":\"John\", \"age\":30, \"city\":\"New York\"}'"
   ]
  },
  {
   "cell_type": "code",
   "execution_count": 91,
   "metadata": {},
   "outputs": [
    {
     "name": "stdout",
     "output_type": "stream",
     "text": [
      "30\n"
     ]
    }
   ],
   "source": [
    "y = json.loads(x)\n",
    "print(y['age'])"
   ]
  },
  {
   "cell_type": "code",
   "execution_count": 92,
   "metadata": {},
   "outputs": [
    {
     "name": "stdout",
     "output_type": "stream",
     "text": [
      "\"{ \\\"name\\\":\\\"John\\\", \\\"age\\\":30, \\\"city\\\":\\\"New York\\\"}\"\n"
     ]
    }
   ],
   "source": [
    "z = json.dumps(x)\n",
    "print(z)"
   ]
  },
  {
   "cell_type": "code",
   "execution_count": 93,
   "metadata": {},
   "outputs": [],
   "source": [
    "'''\n",
    "Redo: FizzBuzz\n",
    "'''\n",
    "def fizzbuzz(n):\n",
    "    ans = []\n",
    "    \n",
    "    for x in range(1,n+1):\n",
    "        if x % 5 == 0 and x % 3 == 0:\n",
    "            ans.append('fizzbuzz')\n",
    "        elif x % 3 == 0:\n",
    "            ans.append('fizz')\n",
    "        elif x % 5 == 0:\n",
    "            ans.append('buzz')\n",
    "    \n",
    "    return ans"
   ]
  },
  {
   "cell_type": "code",
   "execution_count": 94,
   "metadata": {},
   "outputs": [
    {
     "data": {
      "text/plain": [
       "['fizz',\n",
       " 'buzz',\n",
       " 'fizz',\n",
       " 'fizz',\n",
       " 'buzz',\n",
       " 'fizz',\n",
       " 'fizzbuzz',\n",
       " 'fizz',\n",
       " 'buzz',\n",
       " 'fizz',\n",
       " 'fizz',\n",
       " 'buzz',\n",
       " 'fizz',\n",
       " 'fizzbuzz']"
      ]
     },
     "execution_count": 94,
     "metadata": {},
     "output_type": "execute_result"
    }
   ],
   "source": [
    "fizzbuzz(30)"
   ]
  },
  {
   "cell_type": "code",
   "execution_count": 95,
   "metadata": {},
   "outputs": [],
   "source": [
    "'''\n",
    "Redo: Anangrams?\n",
    "'''\n",
    "def ana(s1, s2):\n",
    "    dict_a = {}\n",
    "    dict_b = {}\n",
    "    \n",
    "    for x in s1:\n",
    "        if x in dict_a:\n",
    "            dict_a[x] += 1\n",
    "        else:\n",
    "            dict_a[x] = 1\n",
    "    \n",
    "    for y in s2:\n",
    "        if y in dict_b:\n",
    "            dict_b[y] += 1\n",
    "        else:\n",
    "            dict_b[y] = 1\n",
    "    \n",
    "    return dict_a == dict_b"
   ]
  },
  {
   "cell_type": "code",
   "execution_count": 96,
   "metadata": {},
   "outputs": [
    {
     "data": {
      "text/plain": [
       "True"
      ]
     },
     "execution_count": 96,
     "metadata": {},
     "output_type": "execute_result"
    }
   ],
   "source": [
    "ana('abc', 'cab')"
   ]
  },
  {
   "cell_type": "code",
   "execution_count": 97,
   "metadata": {},
   "outputs": [],
   "source": [
    "'''\n",
    "Redo: Extra word\n",
    "'''\n",
    "def extra(s1, s2):\n",
    "    if len(s1) > len(s2):\n",
    "        first = s2\n",
    "        second = s1\n",
    "    else:\n",
    "        first = s1\n",
    "        second = s2\n",
    "        \n",
    "    word_dict = {}\n",
    "    \n",
    "    for x in first.split(' '):\n",
    "        if x in word_dict:\n",
    "            word_dict[x] += 1\n",
    "        else:\n",
    "            word_dict[x] = 1\n",
    "    \n",
    "    for y in second.split(' '):\n",
    "        if y in word_dict:\n",
    "            word_dict[x] -= 1\n",
    "        else:\n",
    "            return y"
   ]
  },
  {
   "cell_type": "code",
   "execution_count": 98,
   "metadata": {},
   "outputs": [
    {
     "data": {
      "text/plain": [
       "'blah'"
      ]
     },
     "execution_count": 98,
     "metadata": {},
     "output_type": "execute_result"
    }
   ],
   "source": [
    "extra('i too am happy blah', 'i am happy too')"
   ]
  },
  {
   "cell_type": "code",
   "execution_count": 99,
   "metadata": {},
   "outputs": [],
   "source": [
    "'''\n",
    "Redo: Order integers in list\n",
    "'''\n",
    "def order(lst):\n",
    "    a = lst\n",
    "    ans = []\n",
    "    \n",
    "    for _ in range(len(lst)):\n",
    "        smallest = a[0]\n",
    "        for x in a:\n",
    "            if x < smallest:\n",
    "                smallest = x\n",
    "        ans.append(smallest)\n",
    "        a.remove(smallest)\n",
    "    \n",
    "    return ans"
   ]
  },
  {
   "cell_type": "code",
   "execution_count": 100,
   "metadata": {},
   "outputs": [
    {
     "data": {
      "text/plain": [
       "[-100, -50, -10, 2, 3, 7]"
      ]
     },
     "execution_count": 100,
     "metadata": {},
     "output_type": "execute_result"
    }
   ],
   "source": [
    "order([-10, 3, -100, -50, 2, 7])"
   ]
  },
  {
   "cell_type": "code",
   "execution_count": 101,
   "metadata": {},
   "outputs": [
    {
     "data": {
      "text/plain": [
       "False"
      ]
     },
     "execution_count": 101,
     "metadata": {},
     "output_type": "execute_result"
    }
   ],
   "source": [
    "'''\n",
    "REDO: anagrams?\n",
    "'''\n",
    "def ana(s1, s2):\n",
    "    dict1 = {}\n",
    "    dict2 = {}\n",
    "    for x in s1:\n",
    "        if x in dict1:\n",
    "            dict1[x] += 1\n",
    "        else:\n",
    "            dict1[x] = 1\n",
    "    for x in s2:\n",
    "        if x in dict2:\n",
    "            dict2[x] += 1\n",
    "        else:\n",
    "            dict2[x] = 1\n",
    "    return dict1 == dict2\n",
    "\n",
    "ana('abc', 'cbv')"
   ]
  },
  {
   "cell_type": "code",
   "execution_count": 102,
   "metadata": {},
   "outputs": [
    {
     "data": {
      "text/plain": [
       "'i'"
      ]
     },
     "execution_count": 102,
     "metadata": {},
     "output_type": "execute_result"
    }
   ],
   "source": [
    "'''\n",
    "REDO: Return extra word\n",
    "'''\n",
    "def extra(s1, s2):\n",
    "    dict1 = {}\n",
    "    \n",
    "    if len(s1) > len(s2):\n",
    "        first = s2\n",
    "        second = s1\n",
    "    \n",
    "    for x in first.split(' '):\n",
    "        if x in dict1:\n",
    "            dict1[x] += 1\n",
    "        else:\n",
    "            dict1[x] = 1\n",
    "        \n",
    "    for y in second.split(' '):\n",
    "        if y in dict1:\n",
    "            dict1[x] -= 1\n",
    "        else:\n",
    "            return y\n",
    "\n",
    "extra('too i am happy', 'am happy too')"
   ]
  },
  {
   "cell_type": "code",
   "execution_count": 103,
   "metadata": {},
   "outputs": [
    {
     "data": {
      "text/plain": [
       "[-10, 91, 99, 7316]"
      ]
     },
     "execution_count": 103,
     "metadata": {},
     "output_type": "execute_result"
    }
   ],
   "source": [
    "'''\n",
    "REDO: order list of ints\n",
    "'''\n",
    "def order(lst):\n",
    "    temp = lst\n",
    "    ans = []\n",
    "    for _ in range(len(lst)):\n",
    "        sm = temp[0]\n",
    "        for x in temp:\n",
    "            if x < sm:\n",
    "                sm = x\n",
    "        temp.remove(sm)\n",
    "        ans.append(sm)\n",
    "    return ans\n",
    "lst = [-10, 91, 7316, 99]\n",
    "order(lst)"
   ]
  },
  {
   "cell_type": "code",
   "execution_count": 104,
   "metadata": {},
   "outputs": [
    {
     "data": {
      "text/plain": [
       "[-10, 91, 99, 7316]"
      ]
     },
     "execution_count": 104,
     "metadata": {},
     "output_type": "execute_result"
    }
   ],
   "source": [
    "'''\n",
    "from: https://realpython.com/sorting-algorithms-python/#the-bubble-sort-algorithm-in-python\n",
    "BUBBLE SORT O(N^2)\n",
    "'''\n",
    "def bubble(lst):\n",
    "    n = len(lst)\n",
    "    \n",
    "    for i in range(n):\n",
    "        already_sorted = True\n",
    "        \n",
    "        for j in range(n - i - 1):\n",
    "            if lst[j] > lst[j+1]:\n",
    "                lst[j], lst[j+1] = lst[j+1], lst[j]\n",
    "                \n",
    "                already_sorted = False\n",
    "    \n",
    "        if already_sorted:\n",
    "            break\n",
    "    \n",
    "    return lst\n",
    "lst = [-10, 91, 7316, 99]\n",
    "bubble(lst)"
   ]
  },
  {
   "cell_type": "code",
   "execution_count": 105,
   "metadata": {},
   "outputs": [
    {
     "data": {
      "text/plain": [
       "[-10035, -103, -96, 93]"
      ]
     },
     "execution_count": 105,
     "metadata": {},
     "output_type": "execute_result"
    }
   ],
   "source": [
    "'''\n",
    "REDO: Order list of ints\n",
    "'''\n",
    "def order(lst):\n",
    "    temp = lst\n",
    "    ans = []\n",
    "    for _ in range(len(lst)):\n",
    "        smallest = temp[0]\n",
    "        for x in temp:\n",
    "            if x < smallest:\n",
    "                smallest = x\n",
    "        temp.remove(smallest)\n",
    "        ans.append(smallest)\n",
    "    return ans\n",
    "lst = [-103, 93, -96, -10035]\n",
    "order(lst)"
   ]
  },
  {
   "cell_type": "code",
   "execution_count": 106,
   "metadata": {},
   "outputs": [
    {
     "data": {
      "text/plain": [
       "[-8991, -159, -21, 10, 693]"
      ]
     },
     "execution_count": 106,
     "metadata": {},
     "output_type": "execute_result"
    }
   ],
   "source": [
    "'''\n",
    "REDO: Bubble Sort O(N^2) b/c loop inside loop\n",
    "'''\n",
    "def bubble(lst):\n",
    "    n = len(lst)\n",
    "    for i in range(n):\n",
    "        already_sorted = True\n",
    "        for j in range(n-i-1):\n",
    "            if lst[j] > lst[j+1]:\n",
    "                lst[j], lst[j+1] = lst[j+1], lst[j]\n",
    "                already_sorted = False\n",
    "        if already_sorted:\n",
    "            break\n",
    "    return lst\n",
    "lst = [-159, 10, -8991, -21, 693]\n",
    "bubble(lst)"
   ]
  },
  {
   "cell_type": "code",
   "execution_count": 107,
   "metadata": {},
   "outputs": [
    {
     "data": {
      "text/plain": [
       "[1,\n",
       " 2,\n",
       " 'fizz',\n",
       " 4,\n",
       " 'buzz',\n",
       " 'fizz',\n",
       " 7,\n",
       " 8,\n",
       " 'fizz',\n",
       " 'buzz',\n",
       " 11,\n",
       " 'fizz',\n",
       " 13,\n",
       " 14,\n",
       " 'fizzbuzz',\n",
       " 16,\n",
       " 17,\n",
       " 'fizz',\n",
       " 19,\n",
       " 'buzz',\n",
       " 'fizz',\n",
       " 22,\n",
       " 23,\n",
       " 'fizz',\n",
       " 'buzz',\n",
       " 26,\n",
       " 'fizz',\n",
       " 28,\n",
       " 29,\n",
       " 'fizzbuzz']"
      ]
     },
     "execution_count": 107,
     "metadata": {},
     "output_type": "execute_result"
    }
   ],
   "source": [
    "'''\n",
    "REDO: fizzbuzz\n",
    "'''\n",
    "def fizbuz(n):\n",
    "    ans = []\n",
    "    for i in range(1, n+1):\n",
    "        if i % 5 == 0 and i % 3 == 0:\n",
    "            ans.append('fizzbuzz')\n",
    "        elif i % 5 == 0:\n",
    "            ans.append('buzz')\n",
    "        elif i % 3 == 0:\n",
    "            ans.append('fizz')\n",
    "        else:\n",
    "            ans.append(i)\n",
    "    return ans\n",
    "fizbuz(30)"
   ]
  },
  {
   "cell_type": "code",
   "execution_count": 108,
   "metadata": {},
   "outputs": [
    {
     "data": {
      "text/plain": [
       "True"
      ]
     },
     "execution_count": 108,
     "metadata": {},
     "output_type": "execute_result"
    }
   ],
   "source": [
    "'''\n",
    "REDO: Anagram\n",
    "'''\n",
    "def ana(s1, s2):\n",
    "    dict1 = {}\n",
    "    dict2 = {}\n",
    "    for x in s1:\n",
    "        if x in dict1:\n",
    "            dict1[x] += 1\n",
    "        else:\n",
    "            dict1[x] = 1\n",
    "    for y in s2:\n",
    "        if y in dict2:\n",
    "            dict2[y] += 1\n",
    "        else:\n",
    "            dict2[y] = 1\n",
    "    return dict1 == dict2\n",
    "\n",
    "ana('abc', 'bac')"
   ]
  },
  {
   "cell_type": "code",
   "execution_count": 109,
   "metadata": {},
   "outputs": [
    {
     "data": {
      "text/plain": [
       "[-1003, -28, -9, 2, 193]"
      ]
     },
     "execution_count": 109,
     "metadata": {},
     "output_type": "execute_result"
    }
   ],
   "source": [
    "'''\n",
    "REDO: Sort int in list\n",
    "'''\n",
    "def sort(lst):\n",
    "    temp = lst\n",
    "    ans = []\n",
    "    for _ in range(len(lst)):\n",
    "        sm = temp[0]\n",
    "        for x in temp:\n",
    "            if x < sm:\n",
    "                sm = x\n",
    "        temp.remove(sm)\n",
    "        ans.append(sm)\n",
    "    return ans\n",
    "\n",
    "lst = [-9, 2, -1003, -28, 193]\n",
    "sort(lst)"
   ]
  },
  {
   "cell_type": "code",
   "execution_count": 110,
   "metadata": {},
   "outputs": [
    {
     "data": {
      "text/plain": [
       "'am'"
      ]
     },
     "execution_count": 110,
     "metadata": {},
     "output_type": "execute_result"
    }
   ],
   "source": [
    "'''\n",
    "REDO: Find extra word\n",
    "'''\n",
    "def extra(s1, s2):\n",
    "    if len(s1) > len(s2):\n",
    "        first = s2\n",
    "        second = s1\n",
    "    dict1 = {}\n",
    "    for x in first.split(' '):\n",
    "        if x in dict1:\n",
    "            dict1[x] += 1\n",
    "        else:\n",
    "            dict1[x] = 1\n",
    "    for y in second.split(' '):\n",
    "        if y in dict1:\n",
    "            dict1[y] -= 1\n",
    "        else: \n",
    "            return y\n",
    "extra('i am you', 'you i')"
   ]
  },
  {
   "cell_type": "code",
   "execution_count": 111,
   "metadata": {},
   "outputs": [
    {
     "data": {
      "text/plain": [
       "'abc'"
      ]
     },
     "execution_count": 111,
     "metadata": {},
     "output_type": "execute_result"
    }
   ],
   "source": [
    "''.join(sorted('bca'))"
   ]
  },
  {
   "cell_type": "code",
   "execution_count": 112,
   "metadata": {},
   "outputs": [
    {
     "data": {
      "text/plain": [
       "'iop'"
      ]
     },
     "execution_count": 112,
     "metadata": {},
     "output_type": "execute_result"
    }
   ],
   "source": [
    "'''\n",
    "REDO: Find non-anagrams in list\n",
    "'''\n",
    "def nonana(lst):\n",
    "    lst_sorted = [''.join(sorted(x)) for x in lst]\n",
    "    dict1 = {}\n",
    "    \n",
    "    for x in lst_sorted:\n",
    "        if x in dict1:\n",
    "            dict1[x] += 1\n",
    "        else:\n",
    "            dict1[x] = 1\n",
    "    \n",
    "    for x in dict1:\n",
    "        if dict1[x] == 1:\n",
    "            return x\n",
    "\n",
    "nonana(['abc', 'bac', 'acb', 'bca', 'ipo'])\n",
    "    "
   ]
  },
  {
   "cell_type": "code",
   "execution_count": 113,
   "metadata": {},
   "outputs": [
    {
     "data": {
      "text/plain": [
       "3"
      ]
     },
     "execution_count": 113,
     "metadata": {},
     "output_type": "execute_result"
    }
   ],
   "source": [
    "7//2"
   ]
  },
  {
   "cell_type": "code",
   "execution_count": 114,
   "metadata": {},
   "outputs": [
    {
     "data": {
      "text/plain": [
       "-4"
      ]
     },
     "execution_count": 114,
     "metadata": {},
     "output_type": "execute_result"
    }
   ],
   "source": [
    "-7//2"
   ]
  },
  {
   "cell_type": "code",
   "execution_count": null,
   "metadata": {},
   "outputs": [],
   "source": []
  },
  {
   "cell_type": "code",
   "execution_count": 116,
   "metadata": {},
   "outputs": [],
   "source": [
    "from itertools import combinations"
   ]
  },
  {
   "cell_type": "code",
   "execution_count": 130,
   "metadata": {},
   "outputs": [
    {
     "data": {
      "text/plain": [
       "[[1, 1], [2, 2]]"
      ]
     },
     "execution_count": 130,
     "metadata": {},
     "output_type": "execute_result"
    }
   ],
   "source": [
    "lst = [[1,1],[2,2],[3,3],[4,4]]\n",
    "list(list(combinations(lst, 2))[0])"
   ]
  },
  {
   "cell_type": "code",
   "execution_count": 135,
   "metadata": {},
   "outputs": [],
   "source": [
    "def slope(e1, e2):\n",
    "    return (e1[1]-e2[1])/(e1[0]-e2[0])"
   ]
  },
  {
   "cell_type": "code",
   "execution_count": 136,
   "metadata": {},
   "outputs": [
    {
     "data": {
      "text/plain": [
       "1.0"
      ]
     },
     "execution_count": 136,
     "metadata": {},
     "output_type": "execute_result"
    }
   ],
   "source": [
    "slope(list(list(combinations(lst, 2))[0])[0]\n",
    "      , list(list(combinations(lst, 2))[0])[1]\n",
    "     )"
   ]
  },
  {
   "cell_type": "code",
   "execution_count": 134,
   "metadata": {},
   "outputs": [
    {
     "name": "stdout",
     "output_type": "stream",
     "text": [
      "4\n",
      "3\n",
      "2\n",
      "1\n"
     ]
    }
   ],
   "source": [
    "for n in range(len(lst), 0, -1):\n",
    "    print(n)"
   ]
  },
  {
   "cell_type": "code",
   "execution_count": null,
   "metadata": {},
   "outputs": [],
   "source": []
  }
 ],
 "metadata": {
  "kernelspec": {
   "display_name": "Python 3",
   "language": "python",
   "name": "python3"
  },
  "language_info": {
   "codemirror_mode": {
    "name": "ipython",
    "version": 3
   },
   "file_extension": ".py",
   "mimetype": "text/x-python",
   "name": "python",
   "nbconvert_exporter": "python",
   "pygments_lexer": "ipython3",
   "version": "3.8.2"
  }
 },
 "nbformat": 4,
 "nbformat_minor": 4
}
