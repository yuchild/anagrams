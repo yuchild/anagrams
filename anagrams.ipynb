{
 "cells": [
  {
   "cell_type": "code",
   "execution_count": 1,
   "metadata": {},
   "outputs": [],
   "source": [
    "\"\"\"\n",
    "1. Given 2 strings, s1 and s2, return True if they are anagrams of each other.\n",
    "2. All characters must be used.\n",
    "\"\"\"\n",
    "\n",
    "def anagram(s1, s2):\n",
    "    c1 = {}\n",
    "    c2 = {}\n",
    "    \n",
    "    def count_chars(s):\n",
    "        h = {}\n",
    "        for char in s:\n",
    "            if char in h:\n",
    "                h[char] += 1\n",
    "            else:\n",
    "                h[char] = 1\n",
    "        return h\n",
    "\n",
    "    return count_chars(s1) == count_chars(s2)"
   ]
  },
  {
   "cell_type": "code",
   "execution_count": 2,
   "metadata": {},
   "outputs": [
    {
     "data": {
      "text/plain": [
       "True"
      ]
     },
     "execution_count": 2,
     "metadata": {},
     "output_type": "execute_result"
    }
   ],
   "source": [
    "anagram('word', 'wodr')"
   ]
  },
  {
   "cell_type": "code",
   "execution_count": 3,
   "metadata": {},
   "outputs": [
    {
     "data": {
      "text/plain": [
       "False"
      ]
     },
     "execution_count": 3,
     "metadata": {},
     "output_type": "execute_result"
    }
   ],
   "source": [
    "anagram('dog', 'dogg')"
   ]
  },
  {
   "cell_type": "code",
   "execution_count": 4,
   "metadata": {},
   "outputs": [
    {
     "data": {
      "text/plain": [
       "True"
      ]
     },
     "execution_count": 4,
     "metadata": {},
     "output_type": "execute_result"
    }
   ],
   "source": [
    "anagram('racecar', 'carrace')"
   ]
  },
  {
   "cell_type": "code",
   "execution_count": 5,
   "metadata": {},
   "outputs": [],
   "source": [
    "\"\"\"\n",
    "1. Given a sentence, sent1, and the same sentence with an added word, sent2, return the added word.\n",
    "2. Every sentence, s1, will have at least 1 word.\n",
    "\"\"\"\n",
    "\n",
    "def extra_word(s1, s2):\n",
    "    words = {}\n",
    "    \n",
    "    for word in s1.split(' '):\n",
    "        if word in words:\n",
    "            words[word] += 1\n",
    "        else:\n",
    "            words[word] = 1\n",
    "    \n",
    "    for word in s2.split(' '):\n",
    "        if word in words:\n",
    "            words[word] -= 1\n",
    "        else:\n",
    "            return word"
   ]
  },
  {
   "cell_type": "code",
   "execution_count": 6,
   "metadata": {},
   "outputs": [
    {
     "data": {
      "text/plain": [
       "'fast'"
      ]
     },
     "execution_count": 6,
     "metadata": {},
     "output_type": "execute_result"
    }
   ],
   "source": [
    "extra_word('This is a dog', 'This is a fast dog')"
   ]
  },
  {
   "cell_type": "code",
   "execution_count": 7,
   "metadata": {},
   "outputs": [
    {
     "data": {
      "text/plain": [
       "'The'"
      ]
     },
     "execution_count": 7,
     "metadata": {},
     "output_type": "execute_result"
    }
   ],
   "source": [
    "extra_word('answer', 'The answer')"
   ]
  },
  {
   "cell_type": "code",
   "execution_count": 8,
   "metadata": {},
   "outputs": [
    {
     "data": {
      "text/plain": [
       "'hard'"
      ]
     },
     "execution_count": 8,
     "metadata": {},
     "output_type": "execute_result"
    }
   ],
   "source": [
    "extra_word('Can you solve algorithm questions', 'Can you solve hard algorithm questions')"
   ]
  },
  {
   "cell_type": "code",
   "execution_count": 9,
   "metadata": {},
   "outputs": [],
   "source": [
    "'''\n",
    "1. Given n, return a list of values for every integer from 1 through n.\n",
    "2. If a number is divisible by 3, return 'Fizz' in its place.\n",
    "3. If the number is divisible by 5 return 'Buzz' in its place.\n",
    "4. If the number is divisible by 3 and 5, return 'FizzBuzz' in its place.\n",
    "'''\n",
    "\n",
    "def fizzbuzz(n):\n",
    "    ans = []\n",
    "    for i in range(1, n+1):\n",
    "        if i % 3 == 0 and i % 5 == 0:\n",
    "            ans.append('FizzBuzz')\n",
    "        elif i % 3 == 0:\n",
    "            ans.append('Fizz')\n",
    "        elif i% 5 == 0:\n",
    "            ans.append('Buzz')\n",
    "        else:\n",
    "            ans.append(i)\n",
    "    return ans"
   ]
  },
  {
   "cell_type": "code",
   "execution_count": 10,
   "metadata": {},
   "outputs": [
    {
     "data": {
      "text/plain": [
       "[1,\n",
       " 2,\n",
       " 'Fizz',\n",
       " 4,\n",
       " 'Buzz',\n",
       " 'Fizz',\n",
       " 7,\n",
       " 8,\n",
       " 'Fizz',\n",
       " 'Buzz',\n",
       " 11,\n",
       " 'Fizz',\n",
       " 13,\n",
       " 14,\n",
       " 'FizzBuzz',\n",
       " 16,\n",
       " 17,\n",
       " 'Fizz',\n",
       " 19,\n",
       " 'Buzz']"
      ]
     },
     "execution_count": 10,
     "metadata": {},
     "output_type": "execute_result"
    }
   ],
   "source": [
    "fizzbuzz(20)"
   ]
  },
  {
   "cell_type": "code",
   "execution_count": 11,
   "metadata": {},
   "outputs": [],
   "source": [
    "'''\n",
    "General letter counter\n",
    "'''\n",
    "def count_dict(s):\n",
    "    bag = {}\n",
    "    for x in s:\n",
    "        if x in bag:\n",
    "            bag[x] += 1\n",
    "        else:\n",
    "            bag[x] = 1\n",
    "    return bag"
   ]
  },
  {
   "cell_type": "code",
   "execution_count": 12,
   "metadata": {},
   "outputs": [
    {
     "data": {
      "text/plain": [
       "{'m': 1, 'i': 4, 's': 4, 'p': 2}"
      ]
     },
     "execution_count": 12,
     "metadata": {},
     "output_type": "execute_result"
    }
   ],
   "source": [
    "count_dict('mississippi')"
   ]
  },
  {
   "cell_type": "code",
   "execution_count": 13,
   "metadata": {},
   "outputs": [],
   "source": [
    "'''\n",
    "General word counter\n",
    "'''\n",
    "def count_words(s):\n",
    "    bag = {}\n",
    "    for x in s.split(' '):\n",
    "        if x in bag:\n",
    "            bag[x] += 1\n",
    "        else:\n",
    "            bag[x] = 1\n",
    "    return bag"
   ]
  },
  {
   "cell_type": "code",
   "execution_count": 14,
   "metadata": {},
   "outputs": [
    {
     "data": {
      "text/plain": [
       "{'Tik': 2, 'Tok': 2}"
      ]
     },
     "execution_count": 14,
     "metadata": {},
     "output_type": "execute_result"
    }
   ],
   "source": [
    "count_words('Tik Tok Tik Tok')"
   ]
  },
  {
   "cell_type": "code",
   "execution_count": 15,
   "metadata": {},
   "outputs": [
    {
     "data": {
      "text/plain": [
       "{'birthday', 'error', 'happy', 'june'}"
      ]
     },
     "execution_count": 15,
     "metadata": {},
     "output_type": "execute_result"
    }
   ],
   "source": [
    "'''\n",
    "Sort list of words\n",
    "'''\n",
    "lst = ['happy', 'birthday', 'june', 'error']\n",
    "set_lst = set(lst)\n",
    "set_lst"
   ]
  },
  {
   "cell_type": "code",
   "execution_count": 16,
   "metadata": {},
   "outputs": [
    {
     "data": {
      "text/plain": [
       "['june', 'happy', 'error', 'birthday']"
      ]
     },
     "execution_count": 16,
     "metadata": {},
     "output_type": "execute_result"
    }
   ],
   "source": [
    "lst.sort(key=len)\n",
    "lst"
   ]
  },
  {
   "cell_type": "code",
   "execution_count": 17,
   "metadata": {},
   "outputs": [],
   "source": [
    "'''\n",
    "Redo: are two strings anagrams?\n",
    "'''\n",
    "def ana(s1, s2):\n",
    "    a = {}\n",
    "    b = {}\n",
    "    \n",
    "    for x in s1:\n",
    "        if x in a:\n",
    "            a[x] += 1\n",
    "        else:\n",
    "            a[x] = 1\n",
    "            \n",
    "    for x in s2:\n",
    "        if x in b:\n",
    "            b[x] += 1\n",
    "        else:\n",
    "            b[x] = 1\n",
    "    \n",
    "    return a == b"
   ]
  },
  {
   "cell_type": "code",
   "execution_count": 18,
   "metadata": {},
   "outputs": [
    {
     "data": {
      "text/plain": [
       "True"
      ]
     },
     "execution_count": 18,
     "metadata": {},
     "output_type": "execute_result"
    }
   ],
   "source": [
    "ana('abdc', 'dcba')"
   ]
  },
  {
   "cell_type": "code",
   "execution_count": 19,
   "metadata": {},
   "outputs": [],
   "source": [
    "'''\n",
    "Redo: Find Extra Word\n",
    "'''\n",
    "def extra(s1, s2):\n",
    "    a = {}\n",
    "    \n",
    "    for x in s1.split(' '):\n",
    "        if x in a:\n",
    "            a[x] += 1\n",
    "        else:\n",
    "            a[x] = 1\n",
    "    \n",
    "    for x in s2.split(' '):\n",
    "        if x in a:\n",
    "            a[x] -= 1\n",
    "        else:\n",
    "            return x"
   ]
  },
  {
   "cell_type": "code",
   "execution_count": 20,
   "metadata": {},
   "outputs": [
    {
     "data": {
      "text/plain": [
       "'too'"
      ]
     },
     "execution_count": 20,
     "metadata": {},
     "output_type": "execute_result"
    }
   ],
   "source": [
    "extra('I am happy', 'I am happy too')"
   ]
  },
  {
   "cell_type": "code",
   "execution_count": 21,
   "metadata": {},
   "outputs": [],
   "source": [
    "'''\n",
    "REDO: FIZZBUZZ\n",
    "'''\n",
    "def fizzbuzz(n):\n",
    "    a = []\n",
    "    for x in range(1, n+1):\n",
    "        if (x % 3 == 0 and x % 5 == 0):\n",
    "            a.append('FIZZBUZZ')\n",
    "        elif x % 3 == 0:\n",
    "            a.append('FIZZ')\n",
    "        elif x % 5 == 0:\n",
    "            a.append('BUZZ')\n",
    "        else:\n",
    "            a.append(x)\n",
    "    return a"
   ]
  },
  {
   "cell_type": "code",
   "execution_count": 22,
   "metadata": {},
   "outputs": [
    {
     "data": {
      "text/plain": [
       "[1,\n",
       " 2,\n",
       " 'FIZZ',\n",
       " 4,\n",
       " 'BUZZ',\n",
       " 'FIZZ',\n",
       " 7,\n",
       " 8,\n",
       " 'FIZZ',\n",
       " 'BUZZ',\n",
       " 11,\n",
       " 'FIZZ',\n",
       " 13,\n",
       " 14,\n",
       " 'FIZZBUZZ',\n",
       " 16,\n",
       " 17,\n",
       " 'FIZZ',\n",
       " 19,\n",
       " 'BUZZ',\n",
       " 'FIZZ',\n",
       " 22,\n",
       " 23,\n",
       " 'FIZZ',\n",
       " 'BUZZ',\n",
       " 26,\n",
       " 'FIZZ',\n",
       " 28,\n",
       " 29,\n",
       " 'FIZZBUZZ']"
      ]
     },
     "execution_count": 22,
     "metadata": {},
     "output_type": "execute_result"
    }
   ],
   "source": [
    "fizzbuzz(30)"
   ]
  },
  {
   "cell_type": "code",
   "execution_count": 23,
   "metadata": {},
   "outputs": [],
   "source": [
    "'''\n",
    "Recursive Fibonacci\n",
    "'''\n",
    "def fib(n):\n",
    "    if n == 1:\n",
    "        return 1\n",
    "    elif n == 2:\n",
    "        return 1\n",
    "    return fib(n-1) + fib(n-2)"
   ]
  },
  {
   "cell_type": "code",
   "execution_count": 24,
   "metadata": {},
   "outputs": [
    {
     "data": {
      "text/plain": [
       "[1, 1, 2, 3, 5, 8, 13, 21, 34]"
      ]
     },
     "execution_count": 24,
     "metadata": {},
     "output_type": "execute_result"
    }
   ],
   "source": [
    "[fib(x) for x in range(1,10)]"
   ]
  },
  {
   "cell_type": "code",
   "execution_count": null,
   "metadata": {},
   "outputs": [],
   "source": []
  },
  {
   "cell_type": "code",
   "execution_count": 25,
   "metadata": {},
   "outputs": [],
   "source": [
    "'''\n",
    "Redo: Find non-anagram in list\n",
    "'''\n",
    "def non_ana(lst):\n",
    "    a = []\n",
    "    \n",
    "    for x in lst:\n",
    "        a.append(''.join(sorted(x)))\n",
    "    \n",
    "    for x in a:\n",
    "        for y in a:\n",
    "            if x != y:\n",
    "                return lst[a.index(y)]\n",
    "        "
   ]
  },
  {
   "cell_type": "code",
   "execution_count": 26,
   "metadata": {},
   "outputs": [
    {
     "data": {
      "text/plain": [
       "'afb'"
      ]
     },
     "execution_count": 26,
     "metadata": {},
     "output_type": "execute_result"
    }
   ],
   "source": [
    "non_ana(['acb', 'abc', 'afb', 'cab'])"
   ]
  },
  {
   "cell_type": "code",
   "execution_count": 13,
   "metadata": {},
   "outputs": [],
   "source": [
    "'''\n",
    "Redo: Find Non-Anagram\n",
    "'''\n",
    "def non_ana(lst):\n",
    "    sorted_lst = []\n",
    "    dict_sorted = {}\n",
    "    for x in lst:\n",
    "        a = ''.join(sorted(x))\n",
    "        sorted_lst.append(a)\n",
    "        if a in dict_sorted:\n",
    "            dict_sorted[a] += 1\n",
    "        else:\n",
    "            dict_sorted[a] = 1\n",
    "        \n",
    "    for y in dict_sorted:\n",
    "        if dict_sorted[y] == 1:\n",
    "            b = y\n",
    "    \n",
    "    for z in lst:\n",
    "        if ''.join(sorted(z)) == b:\n",
    "            return z\n",
    "        "
   ]
  },
  {
   "cell_type": "code",
   "execution_count": 14,
   "metadata": {},
   "outputs": [
    {
     "data": {
      "text/plain": [
       "'afb'"
      ]
     },
     "execution_count": 14,
     "metadata": {},
     "output_type": "execute_result"
    }
   ],
   "source": [
    "non_ana(lst)"
   ]
  },
  {
   "cell_type": "code",
   "execution_count": null,
   "metadata": {},
   "outputs": [],
   "source": []
  }
 ],
 "metadata": {
  "kernelspec": {
   "display_name": "Python 3",
   "language": "python",
   "name": "python3"
  },
  "language_info": {
   "codemirror_mode": {
    "name": "ipython",
    "version": 3
   },
   "file_extension": ".py",
   "mimetype": "text/x-python",
   "name": "python",
   "nbconvert_exporter": "python",
   "pygments_lexer": "ipython3",
   "version": "3.8.2"
  }
 },
 "nbformat": 4,
 "nbformat_minor": 4
}
